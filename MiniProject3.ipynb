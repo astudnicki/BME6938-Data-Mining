{
  "nbformat": 4,
  "nbformat_minor": 0,
  "metadata": {
    "colab": {
      "name": "MiniProject3",
      "version": "0.3.2",
      "provenance": [],
      "include_colab_link": true
    },
    "kernelspec": {
      "name": "python3",
      "display_name": "Python 3"
    }
  },
  "cells": [
    {
      "cell_type": "markdown",
      "metadata": {
        "id": "view-in-github",
        "colab_type": "text"
      },
      "source": [
        "<a href=\"https://colab.research.google.com/github/astudnicki/BME6938-Data-Mining/blob/master/MiniProject3.ipynb\" target=\"_parent\"><img src=\"https://colab.research.google.com/assets/colab-badge.svg\" alt=\"Open In Colab\"/></a>"
      ]
    },
    {
      "metadata": {
        "id": "lF2uJ8LVSQ23",
        "colab_type": "text"
      },
      "cell_type": "markdown",
      "source": [
        "**Load the MNIST dataset into Keras**"
      ]
    },
    {
      "metadata": {
        "id": "x5qtBxAneTYw",
        "colab_type": "code",
        "outputId": "e8a9b02e-ad2e-4a88-acb5-80e363fc658d",
        "colab": {
          "base_uri": "https://localhost:8080/",
          "height": 403
        }
      },
      "cell_type": "code",
      "source": [
        "# Plot ad hoc mnist instances\n",
        "from keras.datasets import mnist\n",
        "import matplotlib.pyplot as plt\n",
        "# load (downloaded if needed) the MNIST dataset\n",
        "(X_train, y_train), (X_test, y_test) = mnist.load_data()\n",
        "# plot 4 images as gray scale\n",
        "plt.subplot(221)\n",
        "plt.imshow(X_train[0], cmap=plt.get_cmap('gray'))\n",
        "plt.subplot(222)\n",
        "plt.imshow(X_train[1], cmap=plt.get_cmap('gray'))\n",
        "plt.subplot(223)\n",
        "plt.imshow(X_train[2], cmap=plt.get_cmap('gray'))\n",
        "plt.subplot(224)\n",
        "plt.imshow(X_train[3], cmap=plt.get_cmap('gray'))\n",
        "# show the plot\n",
        "plt.show()"
      ],
      "execution_count": 0,
      "outputs": [
        {
          "output_type": "stream",
          "text": [
            "Using TensorFlow backend.\n"
          ],
          "name": "stderr"
        },
        {
          "output_type": "stream",
          "text": [
            "Downloading data from https://s3.amazonaws.com/img-datasets/mnist.npz\n",
            "11493376/11490434 [==============================] - 0s 0us/step\n"
          ],
          "name": "stdout"
        },
        {
          "output_type": "display_data",
          "data": {
            "image/png": "[encoded data removed]",
            "text/plain": [
              "<Figure size 576x396 with 4 Axes>"
            ]
          },
          "metadata": {
            "tags": []
          }
        }
      ]
    },
    {
      "metadata": {
        "id": "CMZUrlUUSJ-2",
        "colab_type": "text"
      },
      "cell_type": "markdown",
      "source": [
        "**Baseline Model with Multi-Layer Perceptrons**"
      ]
    },
    {
      "metadata": {
        "id": "3tloU27J5p89",
        "colab_type": "code",
        "colab": {}
      },
      "cell_type": "code",
      "source": [
        "import numpy\n",
        "from keras.datasets import mnist\n",
        "from keras.models import Sequential\n",
        "from keras.layers import Dense\n",
        "from keras.layers import Dropout\n",
        "from keras.utils import np_utils"
      ],
      "execution_count": 0,
      "outputs": []
    },
    {
      "metadata": {
        "id": "7cCR5k0coMek",
        "colab_type": "code",
        "colab": {}
      },
      "cell_type": "code",
      "source": [
        "# fix random seed for reproducibility\n",
        "seed = 7\n",
        "numpy.random.seed(seed)\n",
        "\n",
        "# load data\n",
        "(X_train, y_train), (X_test, y_test) = mnist.load_data()\n",
        "\n"
      ],
      "execution_count": 0,
      "outputs": []
    },
    {
      "metadata": {
        "id": "KIvA12RzrgWN",
        "colab_type": "code",
        "colab": {}
      },
      "cell_type": "code",
      "source": [
        "# flatten 28*28 images to a 784 vector for each image\n",
        "num_pixels = X_train.shape[1] * X_train.shape[2]\n",
        "X_train = X_train.reshape(X_train.shape[0], num_pixels).astype('float32')\n",
        "X_test = X_test.reshape(X_test.shape[0], num_pixels).astype('float32')"
      ],
      "execution_count": 0,
      "outputs": []
    },
    {
      "metadata": {
        "id": "DFzlDK3soiU6",
        "colab_type": "code",
        "outputId": "6526f86c-52b5-4c43-9840-c2cece4a4feb",
        "colab": {
          "base_uri": "https://localhost:8080/",
          "height": 35
        }
      },
      "cell_type": "code",
      "source": [
        "X_train.shape"
      ],
      "execution_count": 0,
      "outputs": [
        {
          "output_type": "execute_result",
          "data": {
            "text/plain": [
              "(60000, 28, 28)"
            ]
          },
          "metadata": {
            "tags": []
          },
          "execution_count": 37
        }
      ]
    },
    {
      "metadata": {
        "id": "JC63zPEMSjvg",
        "colab_type": "code",
        "outputId": "6b1b3ba3-6b2e-4be4-80e4-a48d50b41bb4",
        "colab": {
          "base_uri": "https://localhost:8080/",
          "height": 531
        }
      },
      "cell_type": "code",
      "source": [
        "# fix random seed for reproducibility\n",
        "seed = 7\n",
        "numpy.random.seed(seed)\n",
        "\n",
        "# load data\n",
        "(X_train, y_train), (X_test, y_test) = mnist.load_data()\n",
        "\n",
        "# flatten 28*28 images to a 784 vector for each image\n",
        "num_pixels = X_train.shape[1] * X_train.shape[2]\n",
        "X_train = X_train.reshape(X_train.shape[0], num_pixels).astype('float32')\n",
        "X_test = X_test.reshape(X_test.shape[0], num_pixels).astype('float32')\n",
        "\n",
        "# normalize inputs from 0-255 to 0-1\n",
        "X_train = X_train / 255\n",
        "X_test = X_test / 255\n",
        "\n",
        "# one hot encode outputs\n",
        "y_train = np_utils.to_categorical(y_train)\n",
        "y_test = np_utils.to_categorical(y_test)\n",
        "num_classes = y_test.shape[1]\n",
        "\n",
        "\n",
        "\n",
        "# define baseline model\n",
        "def baseline_model():\n",
        "\t# create model\n",
        "\tmodel = Sequential()\n",
        "\tmodel.add(Dense(num_pixels, input_dim=num_pixels, kernel_initializer='normal', activation='relu'))\n",
        "\tmodel.add(Dense(num_classes, kernel_initializer='normal', activation='softmax'))\n",
        "\t# Compile model\n",
        "\tmodel.compile(loss='categorical_crossentropy', optimizer='adam', metrics=['accuracy'])\n",
        "\treturn model\n",
        "\n",
        "\n",
        "\n",
        "# build the model\n",
        "model = baseline_model()\n",
        "# Fit the model\n",
        "model.fit(X_train, y_train, validation_data=(X_test, y_test), epochs=10, batch_size=200, verbose=2)\n",
        "# Final evaluation of the model\n",
        "scores = model.evaluate(X_test, y_test, verbose=0)\n",
        "print(\"Baseline Error: %.2f%%\" % (100-scores[1]*100))"
      ],
      "execution_count": 0,
      "outputs": [
        {
          "output_type": "stream",
          "text": [
            "WARNING:tensorflow:From /usr/local/lib/python3.6/dist-packages/tensorflow/python/framework/op_def_library.py:263: colocate_with (from tensorflow.python.framework.ops) is deprecated and will be removed in a future version.\n",
            "Instructions for updating:\n",
            "Colocations handled automatically by placer.\n",
            "WARNING:tensorflow:From /usr/local/lib/python3.6/dist-packages/tensorflow/python/ops/math_ops.py:3066: to_int32 (from tensorflow.python.ops.math_ops) is deprecated and will be removed in a future version.\n",
            "Instructions for updating:\n",
            "Use tf.cast instead.\n",
            "Train on 60000 samples, validate on 10000 samples\n",
            "Epoch 1/10\n",
            " - 7s - loss: 0.2811 - acc: 0.9206 - val_loss: 0.1411 - val_acc: 0.9574\n",
            "Epoch 2/10\n",
            " - 6s - loss: 0.1115 - acc: 0.9677 - val_loss: 0.0910 - val_acc: 0.9714\n",
            "Epoch 3/10\n",
            " - 6s - loss: 0.0716 - acc: 0.9798 - val_loss: 0.0784 - val_acc: 0.9771\n",
            "Epoch 4/10\n",
            " - 6s - loss: 0.0503 - acc: 0.9856 - val_loss: 0.0752 - val_acc: 0.9762\n",
            "Epoch 5/10\n",
            " - 6s - loss: 0.0373 - acc: 0.9893 - val_loss: 0.0680 - val_acc: 0.9788\n",
            "Epoch 6/10\n",
            " - 6s - loss: 0.0268 - acc: 0.9928 - val_loss: 0.0613 - val_acc: 0.9809\n",
            "Epoch 7/10\n",
            " - 6s - loss: 0.0208 - acc: 0.9946 - val_loss: 0.0627 - val_acc: 0.9803\n",
            "Epoch 8/10\n",
            " - 6s - loss: 0.0140 - acc: 0.9971 - val_loss: 0.0625 - val_acc: 0.9803\n",
            "Epoch 9/10\n",
            " - 6s - loss: 0.0107 - acc: 0.9977 - val_loss: 0.0576 - val_acc: 0.9818\n",
            "Epoch 10/10\n",
            " - 6s - loss: 0.0083 - acc: 0.9983 - val_loss: 0.0603 - val_acc: 0.9819\n",
            "Baseline Error: 1.81%\n"
          ],
          "name": "stdout"
        }
      ]
    },
    {
      "metadata": {
        "id": "jhQRtBSSUxee",
        "colab_type": "text"
      },
      "cell_type": "markdown",
      "source": [
        "**Simple Convolutional Neural Network for MNIST**"
      ]
    },
    {
      "metadata": {
        "id": "f6on7Fb2TW8E",
        "colab_type": "code",
        "outputId": "13b687c9-51b5-40d5-d893-c1fbcdee6f5e",
        "colab": {
          "base_uri": "https://localhost:8080/",
          "height": 35
        }
      },
      "cell_type": "code",
      "source": [
        "import numpy\n",
        "from keras.datasets import mnist\n",
        "from keras.models import Sequential\n",
        "from keras.layers import Dense\n",
        "from keras.layers import Dropout\n",
        "from keras.layers import Flatten\n",
        "from keras.layers.convolutional import Conv2D\n",
        "from keras.layers.convolutional import MaxPooling2D\n",
        "from keras.utils import np_utils\n",
        "from keras import backend as K\n",
        "K.set_image_dim_ordering('th')"
      ],
      "execution_count": 0,
      "outputs": [
        {
          "output_type": "stream",
          "text": [
            "Using TensorFlow backend.\n"
          ],
          "name": "stderr"
        }
      ]
    },
    {
      "metadata": {
        "id": "PKU-WQ5cU7ej",
        "colab_type": "code",
        "outputId": "2c62bce0-321f-4367-fdfc-6b9363c98e25",
        "colab": {
          "base_uri": "https://localhost:8080/",
          "height": 496
        }
      },
      "cell_type": "code",
      "source": [
        "# fix random seed for reproducibility\n",
        "seed = 7\n",
        "numpy.random.seed(seed)\n",
        "\n",
        "# load data\n",
        "(X_train, y_train), (X_test, y_test) = mnist.load_data()\n",
        "# reshape to be [samples][pixels][width][height]\n",
        "X_train = X_train.reshape(X_train.shape[0], 1, 28, 28).astype('float32')\n",
        "X_test = X_test.reshape(X_test.shape[0], 1, 28, 28).astype('float32')\n",
        "\n",
        "# normalize inputs from 0-255 to 0-1\n",
        "X_train = X_train / 255\n",
        "X_test = X_test / 255\n",
        "\n",
        "# one hot encode outputs\n",
        "y_train = np_utils.to_categorical(y_train)\n",
        "y_test = np_utils.to_categorical(y_test)\n",
        "num_classes = y_test.shape[1]\n",
        "\n",
        "\n",
        "\n",
        "def baseline_model():\n",
        "\t# create model\n",
        "\tmodel = Sequential()\n",
        "\tmodel.add(Conv2D(32, (5, 5), input_shape=(1, 28, 28), activation='relu'))\n",
        "\tmodel.add(MaxPooling2D(pool_size=(2, 2)))\n",
        "\tmodel.add(Dropout(0.2))\n",
        "\tmodel.add(Flatten())\n",
        "\tmodel.add(Dense(128, activation='relu'))\n",
        "\tmodel.add(Dense(num_classes, activation='softmax'))\n",
        "\t# Compile model\n",
        "\tmodel.compile(loss='categorical_crossentropy', optimizer='adam', metrics=['accuracy'])\n",
        "\treturn model\n",
        "\n",
        "\n",
        "\n",
        "\n",
        "# build the model\n",
        "model = baseline_model()\n",
        "# Fit the model\n",
        "model.fit(X_train, y_train, validation_data=(X_test, y_test), epochs=10, batch_size=200, verbose=2)\n",
        "# Final evaluation of the model\n",
        "scores = model.evaluate(X_test, y_test, verbose=0)\n",
        "print(\"CNN Error: %.2f%%\" % (100-scores[1]*100))"
      ],
      "execution_count": 0,
      "outputs": [
        {
          "output_type": "stream",
          "text": [
            "WARNING:tensorflow:From /usr/local/lib/python3.6/dist-packages/keras/backend/tensorflow_backend.py:3445: calling dropout (from tensorflow.python.ops.nn_ops) with keep_prob is deprecated and will be removed in a future version.\n",
            "Instructions for updating:\n",
            "Please use `rate` instead of `keep_prob`. Rate should be set to `rate = 1 - keep_prob`.\n",
            "Train on 60000 samples, validate on 10000 samples\n",
            "Epoch 1/10\n",
            " - 60s - loss: 0.2253 - acc: 0.9356 - val_loss: 0.0774 - val_acc: 0.9759\n",
            "Epoch 2/10\n",
            " - 59s - loss: 0.0709 - acc: 0.9786 - val_loss: 0.0441 - val_acc: 0.9851\n",
            "Epoch 3/10\n",
            " - 59s - loss: 0.0507 - acc: 0.9844 - val_loss: 0.0430 - val_acc: 0.9855\n",
            "Epoch 4/10\n",
            " - 59s - loss: 0.0390 - acc: 0.9881 - val_loss: 0.0407 - val_acc: 0.9869\n",
            "Epoch 5/10\n",
            " - 59s - loss: 0.0321 - acc: 0.9899 - val_loss: 0.0340 - val_acc: 0.9892\n",
            "Epoch 6/10\n",
            " - 59s - loss: 0.0264 - acc: 0.9918 - val_loss: 0.0330 - val_acc: 0.9891\n",
            "Epoch 7/10\n",
            " - 59s - loss: 0.0217 - acc: 0.9928 - val_loss: 0.0349 - val_acc: 0.9884\n",
            "Epoch 8/10\n",
            " - 58s - loss: 0.0189 - acc: 0.9940 - val_loss: 0.0330 - val_acc: 0.9887\n",
            "Epoch 9/10\n",
            " - 58s - loss: 0.0151 - acc: 0.9951 - val_loss: 0.0322 - val_acc: 0.9890\n",
            "Epoch 10/10\n",
            " - 58s - loss: 0.0137 - acc: 0.9959 - val_loss: 0.0328 - val_acc: 0.9895\n",
            "CNN Error: 1.05%\n"
          ],
          "name": "stdout"
        }
      ]
    },
    {
      "metadata": {
        "id": "hsGeF-8KYuzE",
        "colab_type": "text"
      },
      "cell_type": "markdown",
      "source": [
        "**CIFAR10 Dataset with Multilayer Perceptron **"
      ]
    },
    {
      "metadata": {
        "id": "q9xkC3ELYuB5",
        "colab_type": "code",
        "colab": {}
      },
      "cell_type": "code",
      "source": [
        "from keras.datasets import cifar10\n",
        "\n",
        "#load data\n",
        "(X_train,y_train),(X_test,y_test) = cifar10.load_data()"
      ],
      "execution_count": 0,
      "outputs": []
    },
    {
      "metadata": {
        "id": "BDXu82LKm2ia",
        "colab_type": "code",
        "colab": {}
      },
      "cell_type": "code",
      "source": [
        "# fix random seed for reproducibility\n",
        "seed = 7\n",
        "numpy.random.seed(seed)\n",
        "\n",
        "# load data\n",
        "(X_train, y_train), (X_test, y_test) = cifar10.load_data()"
      ],
      "execution_count": 0,
      "outputs": []
    },
    {
      "metadata": {
        "id": "CFXEIpgQnBEc",
        "colab_type": "code",
        "outputId": "15820e62-6494-447e-c472-e199d468b430",
        "colab": {
          "base_uri": "https://localhost:8080/",
          "height": 35
        }
      },
      "cell_type": "code",
      "source": [
        "\n",
        "32*32*3\n"
      ],
      "execution_count": 0,
      "outputs": [
        {
          "output_type": "execute_result",
          "data": {
            "text/plain": [
              "3072"
            ]
          },
          "metadata": {
            "tags": []
          },
          "execution_count": 1
        }
      ]
    },
    {
      "metadata": {
        "id": "yDFUv2qbZFVl",
        "colab_type": "code",
        "outputId": "078f1570-3595-4071-fdf3-d3533e9a51c2",
        "colab": {
          "base_uri": "https://localhost:8080/",
          "height": 553
        }
      },
      "cell_type": "code",
      "source": [
        "from keras.datasets import cifar10\n",
        "\n",
        "# fix random seed for reproducibility\n",
        "seed = 7\n",
        "numpy.random.seed(seed)\n",
        "\n",
        "# load data\n",
        "(X_train, y_train), (X_test, y_test) = cifar10.load_data()\n",
        "\n",
        "# flatten 28*28 images to a 784 vector for each image\n",
        "num_pixels = X_train.shape[1] * X_train.shape[2] * X_train.shape[3]\n",
        "X_train = X_train.reshape(X_train.shape[0], num_pixels).astype('float32')\n",
        "X_test = X_test.reshape(X_test.shape[0], num_pixels).astype('float32')\n",
        "\n",
        "# normalize inputs from 0-255 to 0-1\n",
        "X_train = X_train / 255\n",
        "X_test = X_test / 255\n",
        "\n",
        "# one hot encode outputs\n",
        "y_train = np_utils.to_categorical(y_train)\n",
        "y_test = np_utils.to_categorical(y_test)\n",
        "num_classes = y_test.shape[1]\n",
        "\n",
        "\n",
        "\n",
        "# define baseline model\n",
        "def baseline_model():\n",
        "\t# create model\n",
        "\tmodel = Sequential()\n",
        "\tmodel.add(Dense(num_pixels, input_dim=num_pixels, kernel_initializer='normal', activation='relu'))\n",
        "\tmodel.add(Dense(num_classes, kernel_initializer='normal', activation='softmax'))\n",
        "\t# Compile model\n",
        "\tmodel.compile(loss='categorical_crossentropy', optimizer='adam', metrics=['accuracy'])\n",
        "\treturn model\n",
        "\n",
        "\n",
        "\n",
        "# build the model\n",
        "model = baseline_model()\n",
        "# Fit the model\n",
        "model.fit(X_train, y_train, validation_data=(X_test, y_test), epochs=10, batch_size=200, verbose=2)\n",
        "# Final evaluation of the model\n",
        "scores = model.evaluate(X_test, y_test, verbose=0)\n",
        "print(\"Baseline Error: %.2f%%\" % (100-scores[1]*100))"
      ],
      "execution_count": 0,
      "outputs": [
        {
          "output_type": "stream",
          "text": [
            "Downloading data from https://www.cs.toronto.edu/~kriz/cifar-10-python.tar.gz\n",
            "170500096/170498071 [==============================] - 31s 0us/step\n",
            "WARNING:tensorflow:From /usr/local/lib/python3.6/dist-packages/tensorflow/python/framework/op_def_library.py:263: colocate_with (from tensorflow.python.framework.ops) is deprecated and will be removed in a future version.\n",
            "Instructions for updating:\n",
            "Colocations handled automatically by placer.\n",
            "WARNING:tensorflow:From /usr/local/lib/python3.6/dist-packages/tensorflow/python/ops/math_ops.py:3066: to_int32 (from tensorflow.python.ops.math_ops) is deprecated and will be removed in a future version.\n",
            "Instructions for updating:\n",
            "Use tf.cast instead.\n",
            "Train on 50000 samples, validate on 10000 samples\n",
            "Epoch 1/10\n",
            " - 67s - loss: 13.1298 - acc: 0.1486 - val_loss: 13.1391 - val_acc: 0.1608\n",
            "Epoch 2/10\n",
            " - 66s - loss: 13.1180 - acc: 0.1579 - val_loss: 13.0528 - val_acc: 0.1571\n",
            "Epoch 3/10\n",
            " - 66s - loss: 13.0868 - acc: 0.1589 - val_loss: 12.9907 - val_acc: 0.1699\n",
            "Epoch 4/10\n",
            " - 66s - loss: 12.9640 - acc: 0.1618 - val_loss: 12.0569 - val_acc: 0.1713\n",
            "Epoch 5/10\n",
            " - 65s - loss: 4.1416 - acc: 0.2902 - val_loss: 1.7475 - val_acc: 0.3691\n",
            "Epoch 6/10\n",
            " - 66s - loss: 1.6813 - acc: 0.4015 - val_loss: 1.6288 - val_acc: 0.4238\n",
            "Epoch 7/10\n",
            " - 66s - loss: 1.6082 - acc: 0.4311 - val_loss: 1.6063 - val_acc: 0.4229\n",
            "Epoch 8/10\n",
            " - 66s - loss: 1.5643 - acc: 0.4449 - val_loss: 1.5606 - val_acc: 0.4444\n",
            "Epoch 9/10\n",
            " - 66s - loss: 1.5310 - acc: 0.4598 - val_loss: 1.5968 - val_acc: 0.4357\n",
            "Epoch 10/10\n",
            " - 66s - loss: 1.4961 - acc: 0.4715 - val_loss: 1.5044 - val_acc: 0.4653\n",
            "Baseline Error: 53.47%\n"
          ],
          "name": "stdout"
        }
      ]
    },
    {
      "metadata": {
        "id": "BiJrc6mtuwyb",
        "colab_type": "text"
      },
      "cell_type": "markdown",
      "source": [
        "**CIFAR Dataset with Simple Convolutional Neural Network** "
      ]
    },
    {
      "metadata": {
        "id": "akP-8hoyuwOs",
        "colab_type": "code",
        "colab": {}
      },
      "cell_type": "code",
      "source": [
        "import numpy\n",
        "from keras.datasets import mnist\n",
        "from keras.models import Sequential\n",
        "from keras.layers import Dense\n",
        "from keras.layers import Dropout\n",
        "from keras.layers import Flatten\n",
        "from keras.layers.convolutional import Conv2D\n",
        "from keras.layers.convolutional import MaxPooling2D\n",
        "from keras.utils import np_utils\n",
        "from keras import backend as K\n",
        "K.set_image_dim_ordering('th')"
      ],
      "execution_count": 0,
      "outputs": []
    },
    {
      "metadata": {
        "id": "x0rKiZR5u6p8",
        "colab_type": "code",
        "outputId": "9c19c2b5-7d91-4b6d-9c1e-b18bbe2cdf38",
        "colab": {
          "base_uri": "https://localhost:8080/",
          "height": 606
        }
      },
      "cell_type": "code",
      "source": [
        "from keras.datasets import cifar10\n",
        "\n",
        "# fix random seed for reproducibility\n",
        "seed = 7\n",
        "numpy.random.seed(seed)\n",
        "\n",
        "# load data\n",
        "(X_train, y_train), (X_test, y_test) = cifar10.load_data()\n",
        "# reshape to be [samples][pixels][width][height]\n",
        "X_train = X_train.reshape(X_train.shape[0], 3, 32, 32).astype('float32')\n",
        "X_test = X_test.reshape(X_test.shape[0], 3, 32, 32).astype('float32')\n",
        "\n",
        "# normalize inputs from 0-255 to 0-1\n",
        "X_train = X_train / 255\n",
        "X_test = X_test / 255\n",
        "\n",
        "# one hot encode outputs\n",
        "y_train = np_utils.to_categorical(y_train)\n",
        "y_test = np_utils.to_categorical(y_test)\n",
        "num_classes = y_test.shape[1]\n",
        "\n",
        "\n",
        "\n",
        "def baseline_model():\n",
        "\t# create model\n",
        "\tmodel = Sequential()\n",
        "\tmodel.add(Conv2D(32, (5, 5), input_shape=(3, 32, 32), activation='relu'))\n",
        "\tmodel.add(MaxPooling2D(pool_size=(2, 2)))\n",
        "\tmodel.add(Dropout(0.2))\n",
        "\tmodel.add(Flatten())\n",
        "\tmodel.add(Dense(128, activation='relu'))\n",
        "\tmodel.add(Dense(num_classes, activation='softmax'))\n",
        "\t# Compile model\n",
        "\tmodel.compile(loss='categorical_crossentropy', optimizer='adam', metrics=['accuracy'])\n",
        "\treturn model\n",
        "\n",
        "\n",
        "\n",
        "\n",
        "# build the model\n",
        "model = baseline_model()\n",
        "# Fit the model\n",
        "model.fit(X_train, y_train, validation_data=(X_test, y_test), epochs=10, batch_size=200, verbose=2)\n",
        "# Final evaluation of the model\n",
        "scores = model.evaluate(X_test, y_test, verbose=0)\n",
        "print(\"CNN Error: %.2f%%\" % (100-scores[1]*100))"
      ],
      "execution_count": 0,
      "outputs": [
        {
          "output_type": "stream",
          "text": [
            "WARNING:tensorflow:From /usr/local/lib/python3.6/dist-packages/tensorflow/python/framework/op_def_library.py:263: colocate_with (from tensorflow.python.framework.ops) is deprecated and will be removed in a future version.\n",
            "Instructions for updating:\n",
            "Colocations handled automatically by placer.\n",
            "WARNING:tensorflow:From /usr/local/lib/python3.6/dist-packages/keras/backend/tensorflow_backend.py:3445: calling dropout (from tensorflow.python.ops.nn_ops) with keep_prob is deprecated and will be removed in a future version.\n",
            "Instructions for updating:\n",
            "Please use `rate` instead of `keep_prob`. Rate should be set to `rate = 1 - keep_prob`.\n",
            "WARNING:tensorflow:From /usr/local/lib/python3.6/dist-packages/tensorflow/python/ops/math_ops.py:3066: to_int32 (from tensorflow.python.ops.math_ops) is deprecated and will be removed in a future version.\n",
            "Instructions for updating:\n",
            "Use tf.cast instead.\n",
            "Train on 50000 samples, validate on 10000 samples\n",
            "Epoch 1/10\n",
            " - 88s - loss: 1.7383 - acc: 0.3811 - val_loss: 1.4591 - val_acc: 0.4830\n",
            "Epoch 2/10\n",
            " - 87s - loss: 1.4017 - acc: 0.5022 - val_loss: 1.3482 - val_acc: 0.5212\n",
            "Epoch 3/10\n",
            " - 86s - loss: 1.3086 - acc: 0.5386 - val_loss: 1.2595 - val_acc: 0.5639\n",
            "Epoch 4/10\n",
            " - 86s - loss: 1.2311 - acc: 0.5687 - val_loss: 1.1998 - val_acc: 0.5770\n",
            "Epoch 5/10\n",
            " - 86s - loss: 1.1643 - acc: 0.5923 - val_loss: 1.1484 - val_acc: 0.5972\n",
            "Epoch 6/10\n",
            " - 86s - loss: 1.1116 - acc: 0.6148 - val_loss: 1.1433 - val_acc: 0.6003\n",
            "Epoch 7/10\n",
            " - 86s - loss: 1.0675 - acc: 0.6300 - val_loss: 1.1103 - val_acc: 0.6105\n",
            "Epoch 8/10\n",
            " - 89s - loss: 1.0275 - acc: 0.6425 - val_loss: 1.0645 - val_acc: 0.6315\n",
            "Epoch 9/10\n",
            " - 88s - loss: 0.9987 - acc: 0.6509 - val_loss: 1.0425 - val_acc: 0.6400\n",
            "Epoch 10/10\n",
            " - 88s - loss: 0.9686 - acc: 0.6607 - val_loss: 1.0321 - val_acc: 0.6435\n",
            "CNN Error: 35.65%\n"
          ],
          "name": "stdout"
        }
      ]
    },
    {
      "metadata": {
        "id": "wsDWrn4kcxd1",
        "colab_type": "text"
      },
      "cell_type": "markdown",
      "source": [
        "**RESNET50 with CIFAR10 dataset **"
      ]
    },
    {
      "metadata": {
        "id": "ZBMb6Xz-avSs",
        "colab_type": "code",
        "colab": {}
      },
      "cell_type": "code",
      "source": [
        "import pandas as pd\n",
        "import numpy as np \n",
        "import matplotlib.pyplot as plt\n",
        "import os\n",
        "from urllib.request import urlopen,urlretrieve\n",
        "from PIL import Image\n",
        "from tqdm import tqdm_notebook\n",
        "%matplotlib inline\n",
        "from sklearn.utils import shuffle\n",
        "import cv2\n",
        "#from resnets_utils import *\n",
        "from keras.applications.resnet50 import ResNet50\n",
        "\n",
        "\n",
        "from keras.models import load_model\n",
        "from sklearn.datasets import load_files   \n",
        "from keras.utils import np_utils\n",
        "from glob import glob\n",
        "from keras import applications\n",
        "from keras.preprocessing.image import ImageDataGenerator \n",
        "from keras import optimizers\n",
        "from keras.models import Sequential,Model,load_model\n",
        "from keras.layers import Dense, Dropout, Flatten, Conv2D, MaxPool2D,GlobalAveragePooling2D\n",
        "from keras.callbacks import TensorBoard,ReduceLROnPlateau,ModelCheckpoint\n"
      ],
      "execution_count": 0,
      "outputs": []
    },
    {
      "metadata": {
        "id": "uZdud-oxbBpN",
        "colab_type": "code",
        "outputId": "8c8ea933-42c4-439e-85c8-73c222fa956a",
        "colab": {
          "base_uri": "https://localhost:8080/",
          "height": 127
        }
      },
      "cell_type": "code",
      "source": [
        "from keras.datasets import cifar10\n",
        "\n",
        "# fix random seed for reproducibility\n",
        "seed = 7\n",
        "np.random.seed(seed)\n",
        "\n",
        "# load data\n",
        "(X_train, y_train), (X_test, y_test) = cifar10.load_data()\n",
        "# reshape to be [samples][pixels][width][height]\n",
        "X_train = X_train.reshape(X_train.shape[0], 32, 32, 3).astype('float32')\n",
        "X_test = X_test.reshape(X_test.shape[0], 32, 32, 3).astype('float32')\n",
        "\n",
        "#Y_test = y_test\n",
        "#Y_train = y_train\n",
        "\n",
        "# normalize inputs from 0-255 to 0-1\n",
        "X_train = X_train / 255\n",
        "X_test = X_test / 255\n",
        "\n",
        "# one hot encode outputs\n",
        "y_train = np_utils.to_categorical(y_train)\n",
        "y_test = np_utils.to_categorical(y_test)\n",
        "num_classes = y_test.shape[1]\n",
        "\n",
        "print (\"number of training examples = \" + str(X_train.shape[0]))\n",
        "print (\"number of test examples = \" + str(X_test.shape[0]))\n",
        "print (\"X_train shape: \" + str(X_train.shape))\n",
        "print (\"Y_train shape: \" + str(y_train.shape))\n",
        "print (\"X_test shape: \" + str(X_test.shape))\n",
        "print (\"Y_test shape: \" + str(y_test.shape))"
      ],
      "execution_count": 0,
      "outputs": [
        {
          "output_type": "stream",
          "text": [
            "number of training examples = 50000\n",
            "number of test examples = 10000\n",
            "X_train shape: (50000, 32, 32, 3)\n",
            "Y_train shape: (50000, 10)\n",
            "X_test shape: (10000, 32, 32, 3)\n",
            "Y_test shape: (10000, 10)\n"
          ],
          "name": "stdout"
        }
      ]
    },
    {
      "metadata": {
        "id": "EOclVCxJcGK5",
        "colab_type": "code",
        "outputId": "ad38c95b-0366-41d2-c822-72e6ca851d53",
        "colab": {
          "base_uri": "https://localhost:8080/",
          "height": 54
        }
      },
      "cell_type": "code",
      "source": [
        "img_height = 32\n",
        "img_width = 32 \n",
        "num_classes = 10\n",
        "#If imagenet weights are being loaded, \n",
        "#input must have a static square shape (one of (128, 128), (160, 160), (192, 192), or (224, 224))\n",
        "base_model = applications.resnet50.ResNet50(weights= None, include_top=False, input_shape= (img_height,img_width,3))\n",
        "\n",
        "#NOTE -- the imagenet outputs 1000 last layer of softmax... so need to take this off \"include_top = FALSE\""
      ],
      "execution_count": 0,
      "outputs": [
        {
          "output_type": "stream",
          "text": [
            "/usr/local/lib/python3.6/dist-packages/keras_applications/resnet50.py:265: UserWarning: The output shape of `ResNet50(include_top=False)` has been changed since Keras 2.2.0.\n",
            "  warnings.warn('The output shape of `ResNet50(include_top=False)` '\n"
          ],
          "name": "stderr"
        }
      ]
    },
    {
      "metadata": {
        "id": "ruSp1KV2anP4",
        "colab_type": "code",
        "colab": {}
      },
      "cell_type": "code",
      "source": [
        "x = base_model.output\n",
        "x = GlobalAveragePooling2D()(x)\n",
        "x = Dropout(0.7)(x)\n",
        "predictions = Dense(num_classes, activation= 'softmax')(x)\n",
        "model = Model(inputs = base_model.input, outputs = predictions)"
      ],
      "execution_count": 0,
      "outputs": []
    },
    {
      "metadata": {
        "id": "6a_yo1jcE2wc",
        "colab_type": "code",
        "colab": {}
      },
      "cell_type": "code",
      "source": [
        "from keras.optimizers import SGD, Adam\n",
        "# sgd = SGD(lr=lrate, momentum=0.9, decay=decay, nesterov=False)\n",
        "adam = Adam(lr=0.001)\n",
        "model.compile(optimizer= adam, loss='categorical_crossentropy', metrics=['accuracy'])"
      ],
      "execution_count": 0,
      "outputs": []
    },
    {
      "metadata": {
        "id": "roprHtIzKC5W",
        "colab_type": "code",
        "outputId": "c53daba6-c5ba-493c-dc3e-e2cd57fafdca",
        "colab": {
          "base_uri": "https://localhost:8080/",
          "height": 241
        }
      },
      "cell_type": "code",
      "source": [
        "model.fit(X_train, y_train, epochs = 10, batch_size = 64)"
      ],
      "execution_count": 0,
      "outputs": [
        {
          "output_type": "stream",
          "text": [
            "Epoch 1/10\n",
            "50000/50000 [==============================] - 3982s 80ms/step - loss: 2.2319 - acc: 0.3128\n",
            "Epoch 2/10\n",
            "50000/50000 [==============================] - 3881s 78ms/step - loss: 2.0358 - acc: 0.3532\n",
            "Epoch 3/10\n",
            "50000/50000 [==============================] - 3935s 79ms/step - loss: 2.2606 - acc: 0.2752\n",
            "Epoch 4/10\n",
            "50000/50000 [==============================] - 3951s 79ms/step - loss: 2.0349 - acc: 0.3231\n",
            "Epoch 5/10\n",
            "50000/50000 [==============================] - 3893s 78ms/step - loss: 1.8338 - acc: 0.3824\n",
            "Epoch 6/10\n",
            "  192/50000 [..............................] - ETA: 1:06:50 - loss: 1.8686 - acc: 0.4323"
          ],
          "name": "stdout"
        }
      ]
    }
  ]
}